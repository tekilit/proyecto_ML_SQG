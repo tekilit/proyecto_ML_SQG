{
 "cells": [
  {
   "cell_type": "code",
   "execution_count": 1,
   "metadata": {},
   "outputs": [],
   "source": [
    "import pandas as pd\n",
    "import numpy as np\n",
    "import pickle\n",
    "\n",
    "import seaborn as sns\n",
    "\n",
    "import warnings\n",
    "warnings.filterwarnings(\"ignore\", category=DeprecationWarning)\n",
    "from sklearn.ensemble import GradientBoostingClassifier\n",
    "from sklearn import model_selection\n",
    "from sklearn.model_selection import train_test_split\n",
    "from sklearn.model_selection import cross_val_score\n",
    "from sklearn.metrics import confusion_matrix, accuracy_score, precision_score, recall_score, f1_score, roc_auc_score, classification_report"
   ]
  },
  {
   "cell_type": "code",
   "execution_count": 2,
   "metadata": {},
   "outputs": [],
   "source": [
    "X = pd.read_csv('../data/processed/df_train.csv').iloc[::, :18:]\n",
    "y= pd.read_csv('../data/processed/df_train.csv')['satisfaction']\n"
   ]
  },
  {
   "cell_type": "code",
   "execution_count": 3,
   "metadata": {},
   "outputs": [],
   "source": [
    "X_train, X_test, y_train, y_test = train_test_split(X, y, test_size=0.2, random_state=17)"
   ]
  },
  {
   "cell_type": "code",
   "execution_count": 11,
   "metadata": {},
   "outputs": [
    {
     "data": {
      "text/plain": [
       "0.940152016540235"
      ]
     },
     "execution_count": 11,
     "metadata": {},
     "output_type": "execute_result"
    }
   ],
   "source": [
    "model = GradientBoostingClassifier(n_estimators=100,random_state=17)\n",
    "\n",
    "model_gbc = model.fit(X_train, y_train)\n",
    "y_pred = model_gbc.predict(X_test)\n",
    "results_gb = model_selection.cross_val_score(model_gbc, X_test,y_test, cv=10).mean()\n",
    "results_gb"
   ]
  },
  {
   "cell_type": "code",
   "execution_count": 12,
   "metadata": {},
   "outputs": [],
   "source": [
    "pickle.dump(model_gbc, open('../models/model_gbc.pkl', 'wb')) "
   ]
  },
  {
   "cell_type": "code",
   "execution_count": 16,
   "metadata": {},
   "outputs": [],
   "source": [
    "with open('../data/variables_pkl/resultado_gbc.pkl', 'wb') as resultado_gbc:\n",
    "    pickle.dump(('GradientBoostingClassifier', 0.96121836121836125), resultado_gbc)"
   ]
  },
  {
   "cell_type": "code",
   "execution_count": 15,
   "metadata": {},
   "outputs": [
    {
     "data": {
      "text/plain": [
       "0.9612183612183612"
      ]
     },
     "execution_count": 15,
     "metadata": {},
     "output_type": "execute_result"
    }
   ],
   "source": [
    "recall_score(y_test, y_pred)"
   ]
  },
  {
   "cell_type": "code",
   "execution_count": 14,
   "metadata": {},
   "outputs": [
    {
     "name": "stdout",
     "output_type": "stream",
     "text": [
      "accuracy score:   0.9424682658429461\n",
      "precision score:  0.9380390186720254\n",
      "recall score:     0.9612183612183612\n",
      "F1 score:         0.9494872446817527\n",
      "ROC:              0.9397883509533995\n",
      "------------------------------------------- \n",
      "classification report:       \n",
      "---------------------------------------------       \n",
      "                    precision    recall  f1-score   support\n",
      "\n",
      "           0       0.95      0.92      0.93      9064\n",
      "           1       0.94      0.96      0.95     11655\n",
      "\n",
      "    accuracy                           0.94     20719\n",
      "   macro avg       0.94      0.94      0.94     20719\n",
      "weighted avg       0.94      0.94      0.94     20719\n",
      "\n"
     ]
    },
    {
     "data": {
      "image/png": "[encoded data removed]",
      "text/plain": [
       "<Figure size 640x480 with 2 Axes>"
      ]
     },
     "metadata": {},
     "output_type": "display_data"
    }
   ],
   "source": [
    "\n",
    "\n",
    "c_mat = confusion_matrix(y_test,y_pred)\n",
    "c_mat\n",
    "\n",
    "sns.heatmap(c_mat/c_mat.sum(axis=1), annot=True);\n",
    "print(f'accuracy score:   {accuracy_score(y_test,y_pred)}')\n",
    "print(f'precision score:  {precision_score(y_test, y_pred)}')\n",
    "print(f'recall score:     {recall_score(y_test, y_pred)}')\n",
    "print(f'F1 score:         {f1_score(y_test, y_pred)}')\n",
    "print(f'ROC:              {roc_auc_score(y_test, y_pred)}')\n",
    "print('------------------------------------------- ')\n",
    "print(f'''classification report:       \n",
    "---------------------------------------------       \n",
    "      {classification_report(y_test, y_pred)}''')"
   ]
  }
 ],
 "metadata": {
  "kernelspec": {
   "display_name": "Python 3",
   "language": "python",
   "name": "python3"
  },
  "language_info": {
   "codemirror_mode": {
    "name": "ipython",
    "version": 3
   },
   "file_extension": ".py",
   "mimetype": "text/x-python",
   "name": "python",
   "nbconvert_exporter": "python",
   "pygments_lexer": "ipython3",
   "version": "3.7.4"
  },
  "orig_nbformat": 4
 },
 "nbformat": 4,
 "nbformat_minor": 2
}
