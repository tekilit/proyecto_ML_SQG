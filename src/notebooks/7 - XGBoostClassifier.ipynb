{
 "cells": [
  {
   "cell_type": "code",
   "execution_count": 1,
   "metadata": {},
   "outputs": [],
   "source": [
    "import pandas as pd\n",
    "import numpy as np\n",
    "import pickle\n",
    "import seaborn as sns\n",
    "from xgboost import XGBClassifier\n",
    "from sklearn.preprocessing import StandardScaler\n",
    "from sklearn import model_selection\n",
    "from sklearn.model_selection import train_test_split\n",
    "from sklearn.model_selection import cross_val_score\n",
    "from sklearn.metrics import confusion_matrix, accuracy_score, precision_score, recall_score, f1_score, roc_auc_score, classification_report"
   ]
  },
  {
   "cell_type": "code",
   "execution_count": 2,
   "metadata": {},
   "outputs": [],
   "source": [
    "X = pd.read_csv('../data/processed/df_train.csv').iloc[::, :18:]\n",
    "y= pd.read_csv('../data/processed/df_train.csv')['satisfaction']"
   ]
  },
  {
   "cell_type": "code",
   "execution_count": 3,
   "metadata": {},
   "outputs": [],
   "source": [
    "X_train, X_test, y_train, y_test = train_test_split(X, y, test_size=0.2, random_state=42)"
   ]
  },
  {
   "cell_type": "code",
   "execution_count": 4,
   "metadata": {},
   "outputs": [
    {
     "data": {
      "text/plain": [
       "array([[ 1., 41.,  1., ...,  4.,  1.,  0.],\n",
       "       [ 1., 19.,  1., ...,  4.,  1.,  0.],\n",
       "       [ 1., 29.,  1., ...,  4.,  1.,  0.],\n",
       "       ...,\n",
       "       [ 0., 34.,  1., ...,  2.,  1.,  0.],\n",
       "       [ 1., 24.,  1., ...,  3.,  1.,  0.],\n",
       "       [ 1., 52.,  1., ...,  2.,  0.,  1.]])"
      ]
     },
     "execution_count": 4,
     "metadata": {},
     "output_type": "execute_result"
    }
   ],
   "source": [
    "scaler = StandardScaler()\n",
    "\n",
    "X_train = scaler.fit_transform(X_train)\n",
    "X_test = scaler.transform(X_test)\n",
    "scaler.inverse_transform(X_train)"
   ]
  },
  {
   "cell_type": "code",
   "execution_count": 5,
   "metadata": {},
   "outputs": [],
   "source": [
    "model = XGBClassifier(n_estimators=100, use_label_encoder=False, eval_metric = 'logloss')\n",
    "XGB = model.fit(X_train,y_train)\n",
    "\n"
   ]
  },
  {
   "cell_type": "code",
   "execution_count": 6,
   "metadata": {},
   "outputs": [],
   "source": [
    "pickle.dump(XGB, open('../models/model_XGB.pkl', 'wb')) "
   ]
  },
  {
   "cell_type": "code",
   "execution_count": 7,
   "metadata": {},
   "outputs": [],
   "source": [
    "y_predict = XGB.predict(X_test)"
   ]
  },
  {
   "cell_type": "code",
   "execution_count": 8,
   "metadata": {},
   "outputs": [
    {
     "data": {
      "text/plain": [
       "0.9865824988953913"
      ]
     },
     "execution_count": 8,
     "metadata": {},
     "output_type": "execute_result"
    }
   ],
   "source": [
    "\n",
    "results_xgb = model_selection.cross_val_score(model, X_test,y_predict, cv=10).mean()\n",
    "results_xgb"
   ]
  },
  {
   "cell_type": "code",
   "execution_count": 9,
   "metadata": {},
   "outputs": [],
   "source": [
    "with open('../data/variables_pkl/resultado_XGB.pkl', 'wb') as resultado_XGB:\n",
    "    pickle.dump(('resuktado_XGB', 0.9865824988953913), resultado_XGB)"
   ]
  },
  {
   "cell_type": "code",
   "execution_count": 10,
   "metadata": {},
   "outputs": [
    {
     "name": "stdout",
     "output_type": "stream",
     "text": [
      "accuracy score:   0.9632221632318162\n",
      "precision score:  0.9561939860959879\n",
      "recall score:     0.9794937794937795\n",
      "F1 score:         0.9677036534712216\n",
      "ROC:              0.9608964925712498\n",
      "------------------------------------------- \n",
      "classification report:       \n",
      "---------------------------------------------       \n",
      "                    precision    recall  f1-score   support\n",
      "\n",
      "           0       0.97      0.94      0.96      9064\n",
      "           1       0.96      0.98      0.97     11655\n",
      "\n",
      "    accuracy                           0.96     20719\n",
      "   macro avg       0.96      0.96      0.96     20719\n",
      "weighted avg       0.96      0.96      0.96     20719\n",
      "\n"
     ]
    },
    {
     "data": {
      "image/png": "[encoded data removed]",
      "text/plain": [
       "<Figure size 640x480 with 2 Axes>"
      ]
     },
     "metadata": {},
     "output_type": "display_data"
    }
   ],
   "source": [
    "c_mat = confusion_matrix(y_test,y_predict)\n",
    "\n",
    "sns.heatmap(c_mat/c_mat.sum(axis=1), annot=True);\n",
    "print(f'accuracy score:   {accuracy_score(y_test,y_predict)}')\n",
    "print(f'precision score:  {precision_score(y_test, y_predict)}')\n",
    "print(f'recall score:     {recall_score(y_test, y_predict)}')\n",
    "print(f'F1 score:         {f1_score(y_test, y_predict)}')\n",
    "print(f'ROC:              {roc_auc_score(y_test, y_predict)}')\n",
    "print('------------------------------------------- ')\n",
    "print(f'''classification report:       \n",
    "---------------------------------------------       \n",
    "      {classification_report(y_test, y_predict)}''')\n"
   ]
  }
 ],
 "metadata": {
  "kernelspec": {
   "display_name": "Python 3",
   "language": "python",
   "name": "python3"
  },
  "language_info": {
   "codemirror_mode": {
    "name": "ipython",
    "version": 3
   },
   "file_extension": ".py",
   "mimetype": "text/x-python",
   "name": "python",
   "nbconvert_exporter": "python",
   "pygments_lexer": "ipython3",
   "version": "3.7.4"
  },
  "orig_nbformat": 4
 },
 "nbformat": 4,
 "nbformat_minor": 2
}
