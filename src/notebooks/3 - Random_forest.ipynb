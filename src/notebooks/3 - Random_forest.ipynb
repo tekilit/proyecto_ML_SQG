{
 "cells": [
  {
   "cell_type": "code",
   "execution_count": 1,
   "metadata": {},
   "outputs": [],
   "source": [
    "import ssl\n",
    "ssl._create_default_https_context = ssl._create_unverified_context\n",
    "\n",
    "import numpy as np\n",
    "import pandas as pd\n",
    "import pickle\n",
    "%matplotlib inline\n",
    "import matplotlib as mpl\n",
    "import matplotlib.pyplot as plt\n",
    "import seaborn as sns\n",
    "\n",
    "import warnings\n",
    "warnings.filterwarnings(\"ignore\", category=DeprecationWarning)\n",
    "from sklearn.model_selection import train_test_split\n",
    "from sklearn.datasets import make_classification\n",
    "from sklearn.ensemble import RandomForestClassifier\n",
    "from sklearn.feature_selection import SelectFromModel\n",
    "from sklearn.model_selection import cross_val_score\n",
    "from sklearn.pipeline import make_pipeline\n",
    "from sklearn.metrics import accuracy_score, mean_squared_error\n",
    "from sklearn.metrics import confusion_matrix, accuracy_score, precision_score, recall_score, f1_score, roc_auc_score, classification_report\n",
    "\n",
    "\n",
    "rf = RandomForestClassifier(n_estimators = 200, random_state = 17, max_depth=5)\n",
    "\n"
   ]
  },
  {
   "cell_type": "code",
   "execution_count": 2,
   "metadata": {},
   "outputs": [],
   "source": [
    "X = pd.read_csv('../data/processed/df_train.csv').iloc[::, :18:]\n",
    "y= pd.read_csv('../data/processed/df_train.csv')['satisfaction']"
   ]
  },
  {
   "cell_type": "code",
   "execution_count": 3,
   "metadata": {},
   "outputs": [],
   "source": [
    "X_train, X_test, y_train, y_test = train_test_split(X, y, test_size=0.2, random_state=42)"
   ]
  },
  {
   "cell_type": "code",
   "execution_count": 4,
   "metadata": {},
   "outputs": [],
   "source": [
    "rf =rf.fit(X_train,y_train)\n",
    "pickle.dump(rf, open('../models/random_forest.pkl', 'wb')) "
   ]
  },
  {
   "cell_type": "code",
   "execution_count": 5,
   "metadata": {},
   "outputs": [],
   "source": [
    "y_pred = rf.predict(X_test)"
   ]
  },
  {
   "cell_type": "code",
   "execution_count": 6,
   "metadata": {},
   "outputs": [
    {
     "data": {
      "text/plain": [
       "('Random Forest', 0.9741420625161306)"
      ]
     },
     "execution_count": 6,
     "metadata": {},
     "output_type": "execute_result"
    }
   ],
   "source": [
    "resultado_rf_test = 'Random Forest', cross_val_score(rf,  X_test , y_test,\n",
    "                                  scoring='roc_auc',cv=5).mean()\n",
    "resultado_rf_test"
   ]
  },
  {
   "cell_type": "code",
   "execution_count": 22,
   "metadata": {},
   "outputs": [],
   "source": [
    "with open('../data/variables_pkl/resultado_random_forest.pkl', 'wb') as resultado_rf:\n",
    "    pickle.dump(('Random Forest', 0.9741420625161306), resultado_rf)"
   ]
  },
  {
   "cell_type": "code",
   "execution_count": 10,
   "metadata": {},
   "outputs": [
    {
     "name": "stderr",
     "output_type": "stream",
     "text": [
      "/Library/Frameworks/Python.framework/Versions/3.7/lib/python3.7/site-packages/sklearn/base.py:451: UserWarning: X does not have valid feature names, but RandomForestClassifier was fitted with feature names\n",
      "  \"X does not have valid feature names, but\"\n"
     ]
    },
    {
     "data": {
      "text/plain": [
       "array([[0.64248891, 0.35751109]])"
      ]
     },
     "execution_count": 10,
     "metadata": {},
     "output_type": "execute_result"
    }
   ],
   "source": [
    "rf.predict_proba([[1,35,1,3833,3,3,3,2,3,5,5,5,5,4,5,4,1,0]])\n"
   ]
  },
  {
   "cell_type": "code",
   "execution_count": 11,
   "metadata": {},
   "outputs": [
    {
     "data": {
      "text/plain": [
       "RandomForestClassifier(max_depth=5, n_estimators=200, random_state=17)"
      ]
     },
     "execution_count": 11,
     "metadata": {},
     "output_type": "execute_result"
    }
   ],
   "source": [
    "rf.fit(X,y)"
   ]
  },
  {
   "cell_type": "code",
   "execution_count": 12,
   "metadata": {},
   "outputs": [
    {
     "data": {
      "text/plain": [
       "array([0.02241811, 0.0054602 , 0.11274291, 0.00769802, 0.14275123,\n",
       "       0.0289854 , 0.00381179, 0.2448107 , 0.04485499, 0.06879967,\n",
       "       0.023555  , 0.03738772, 0.0120298 , 0.00878248, 0.00984226,\n",
       "       0.01390986, 0.12550215, 0.0866577 ])"
      ]
     },
     "execution_count": 12,
     "metadata": {},
     "output_type": "execute_result"
    }
   ],
   "source": [
    "rf.feature_importances_"
   ]
  },
  {
   "cell_type": "code",
   "execution_count": 13,
   "metadata": {},
   "outputs": [
    {
     "data": {
      "text/plain": [
       "array(['Customer Type', 'Age', 'Type of Travel', 'Flight Distance',\n",
       "       'Inflight wifi service', 'Ease of Online booking',\n",
       "       'Food and drink', 'Online boarding', 'Seat comfort',\n",
       "       'Inflight entertainment', 'On-board service', 'Leg room service',\n",
       "       'Baggage handling', 'Checkin service', 'Inflight service',\n",
       "       'Cleanliness', 'Class_Business', 'Class_Eco'], dtype=object)"
      ]
     },
     "execution_count": 13,
     "metadata": {},
     "output_type": "execute_result"
    }
   ],
   "source": [
    "names = X.columns.values\n",
    "names\n"
   ]
  },
  {
   "cell_type": "code",
   "execution_count": 14,
   "metadata": {},
   "outputs": [],
   "source": [
    "scores = sorted(zip(map(lambda x: round(x, 4), rf.feature_importances_), ['Customer Type', 'Age', 'Type of Travel', 'Flight Distance',\n",
    "       'Inflight wifi service', 'Departure/Arrival time convenient',\n",
    "       'Ease of Online booking', 'Gate location', 'Food and drink',\n",
    "       'Online boarding', 'Seat comfort', 'Inflight entertainment',\n",
    "       'On-board service', 'Leg room service', 'Baggage handling',\n",
    "       'Checkin service', 'Inflight service', 'Cleanliness',\n",
    "       'Departure Delay in Minutes', 'Arrival Delay in Minutes',\n",
    "       'Class_Business', 'Class_Eco', 'Class_Eco Plus']), reverse=True)\n",
    "feature_importance_rf = pd.DataFrame(scores, columns=['Score', 'Feature'])"
   ]
  },
  {
   "cell_type": "code",
   "execution_count": 15,
   "metadata": {},
   "outputs": [
    {
     "name": "stdout",
     "output_type": "stream",
     "text": [
      "(103594, 18)\n",
      "(103594, 5)\n",
      "[ 3777.04508664  1982.68579962 26156.91806264 10164.14462614\n",
      "  9099.69010099  3139.47683693  4762.94477781 35170.63342426\n",
      " 14378.12033001 19521.61547272 12020.74251024 11265.60989666\n",
      "  6778.33376222  6105.27121703  6606.69019041 10628.85476081\n",
      " 35263.68611526 26477.19375366]\n"
     ]
    }
   ],
   "source": [
    "from sklearn.feature_selection import SelectKBest\n",
    "\n",
    "print(X.shape)\n",
    "sel = SelectKBest(k=5)\n",
    "X_new = sel.fit_transform(X, y)\n",
    "print(X_new.shape)\n",
    "print(sel.scores_)\n",
    "\n",
    "features_selectKbest = pd.DataFrame({'column': names, 'score': sel.scores_}).sort_values('score', ascending=False)"
   ]
  },
  {
   "cell_type": "code",
   "execution_count": 16,
   "metadata": {},
   "outputs": [],
   "source": [
    "feature_importance_rf22 = feature_importance_rf.to_csv('../data/csv_data/fi_rf_22', index=False)"
   ]
  },
  {
   "cell_type": "code",
   "execution_count": 17,
   "metadata": {},
   "outputs": [],
   "source": [
    "feature_importance_rf22 = feature_importance_rf.tail(5).to_csv('../data/csv_data/fi_rf_tail', index=False)"
   ]
  },
  {
   "cell_type": "code",
   "execution_count": 18,
   "metadata": {},
   "outputs": [
    {
     "data": {
      "text/html": [
       "<div>\n",
       "<style scoped>\n",
       "    .dataframe tbody tr th:only-of-type {\n",
       "        vertical-align: middle;\n",
       "    }\n",
       "\n",
       "    .dataframe tbody tr th {\n",
       "        vertical-align: top;\n",
       "    }\n",
       "\n",
       "    .dataframe thead th {\n",
       "        text-align: right;\n",
       "    }\n",
       "</style>\n",
       "<table border=\"1\" class=\"dataframe\">\n",
       "  <thead>\n",
       "    <tr style=\"text-align: right;\">\n",
       "      <th></th>\n",
       "      <th>Score</th>\n",
       "      <th>Feature</th>\n",
       "    </tr>\n",
       "  </thead>\n",
       "  <tbody>\n",
       "    <tr>\n",
       "      <th>0</th>\n",
       "      <td>0.2448</td>\n",
       "      <td>Gate location</td>\n",
       "    </tr>\n",
       "    <tr>\n",
       "      <th>1</th>\n",
       "      <td>0.1428</td>\n",
       "      <td>Inflight wifi service</td>\n",
       "    </tr>\n",
       "    <tr>\n",
       "      <th>2</th>\n",
       "      <td>0.1255</td>\n",
       "      <td>Inflight service</td>\n",
       "    </tr>\n",
       "    <tr>\n",
       "      <th>3</th>\n",
       "      <td>0.1127</td>\n",
       "      <td>Type of Travel</td>\n",
       "    </tr>\n",
       "    <tr>\n",
       "      <th>4</th>\n",
       "      <td>0.0867</td>\n",
       "      <td>Cleanliness</td>\n",
       "    </tr>\n",
       "    <tr>\n",
       "      <th>5</th>\n",
       "      <td>0.0688</td>\n",
       "      <td>Online boarding</td>\n",
       "    </tr>\n",
       "    <tr>\n",
       "      <th>6</th>\n",
       "      <td>0.0449</td>\n",
       "      <td>Food and drink</td>\n",
       "    </tr>\n",
       "    <tr>\n",
       "      <th>7</th>\n",
       "      <td>0.0374</td>\n",
       "      <td>Inflight entertainment</td>\n",
       "    </tr>\n",
       "    <tr>\n",
       "      <th>8</th>\n",
       "      <td>0.0290</td>\n",
       "      <td>Departure/Arrival time convenient</td>\n",
       "    </tr>\n",
       "    <tr>\n",
       "      <th>9</th>\n",
       "      <td>0.0236</td>\n",
       "      <td>Seat comfort</td>\n",
       "    </tr>\n",
       "    <tr>\n",
       "      <th>10</th>\n",
       "      <td>0.0224</td>\n",
       "      <td>Customer Type</td>\n",
       "    </tr>\n",
       "    <tr>\n",
       "      <th>11</th>\n",
       "      <td>0.0139</td>\n",
       "      <td>Checkin service</td>\n",
       "    </tr>\n",
       "    <tr>\n",
       "      <th>12</th>\n",
       "      <td>0.0120</td>\n",
       "      <td>On-board service</td>\n",
       "    </tr>\n",
       "    <tr>\n",
       "      <th>13</th>\n",
       "      <td>0.0098</td>\n",
       "      <td>Baggage handling</td>\n",
       "    </tr>\n",
       "    <tr>\n",
       "      <th>14</th>\n",
       "      <td>0.0088</td>\n",
       "      <td>Leg room service</td>\n",
       "    </tr>\n",
       "    <tr>\n",
       "      <th>15</th>\n",
       "      <td>0.0077</td>\n",
       "      <td>Flight Distance</td>\n",
       "    </tr>\n",
       "    <tr>\n",
       "      <th>16</th>\n",
       "      <td>0.0055</td>\n",
       "      <td>Age</td>\n",
       "    </tr>\n",
       "    <tr>\n",
       "      <th>17</th>\n",
       "      <td>0.0038</td>\n",
       "      <td>Ease of Online booking</td>\n",
       "    </tr>\n",
       "  </tbody>\n",
       "</table>\n",
       "</div>"
      ],
      "text/plain": [
       "     Score                            Feature\n",
       "0   0.2448                      Gate location\n",
       "1   0.1428              Inflight wifi service\n",
       "2   0.1255                   Inflight service\n",
       "3   0.1127                     Type of Travel\n",
       "4   0.0867                        Cleanliness\n",
       "5   0.0688                    Online boarding\n",
       "6   0.0449                     Food and drink\n",
       "7   0.0374             Inflight entertainment\n",
       "8   0.0290  Departure/Arrival time convenient\n",
       "9   0.0236                       Seat comfort\n",
       "10  0.0224                      Customer Type\n",
       "11  0.0139                    Checkin service\n",
       "12  0.0120                   On-board service\n",
       "13  0.0098                   Baggage handling\n",
       "14  0.0088                   Leg room service\n",
       "15  0.0077                    Flight Distance\n",
       "16  0.0055                                Age\n",
       "17  0.0038             Ease of Online booking"
      ]
     },
     "execution_count": 18,
     "metadata": {},
     "output_type": "execute_result"
    }
   ],
   "source": [
    "feature_importance_rf"
   ]
  },
  {
   "cell_type": "code",
   "execution_count": 19,
   "metadata": {},
   "outputs": [],
   "source": [
    "features_selectKbest_22 = features_selectKbest.to_csv('../data/csv_data/fi_skbest_22', index=False)"
   ]
  },
  {
   "cell_type": "code",
   "execution_count": 20,
   "metadata": {},
   "outputs": [],
   "source": [
    "features_selectKbest_tail = features_selectKbest.to_csv('../data/csv_data/fi_skbest_tail', index=False)"
   ]
  },
  {
   "cell_type": "code",
   "execution_count": 21,
   "metadata": {},
   "outputs": [
    {
     "data": {
      "text/html": [
       "<div>\n",
       "<style scoped>\n",
       "    .dataframe tbody tr th:only-of-type {\n",
       "        vertical-align: middle;\n",
       "    }\n",
       "\n",
       "    .dataframe tbody tr th {\n",
       "        vertical-align: top;\n",
       "    }\n",
       "\n",
       "    .dataframe thead th {\n",
       "        text-align: right;\n",
       "    }\n",
       "</style>\n",
       "<table border=\"1\" class=\"dataframe\">\n",
       "  <thead>\n",
       "    <tr style=\"text-align: right;\">\n",
       "      <th></th>\n",
       "      <th>column</th>\n",
       "      <th>score</th>\n",
       "    </tr>\n",
       "  </thead>\n",
       "  <tbody>\n",
       "    <tr>\n",
       "      <th>16</th>\n",
       "      <td>Class_Business</td>\n",
       "      <td>35263.686115</td>\n",
       "    </tr>\n",
       "    <tr>\n",
       "      <th>7</th>\n",
       "      <td>Online boarding</td>\n",
       "      <td>35170.633424</td>\n",
       "    </tr>\n",
       "    <tr>\n",
       "      <th>17</th>\n",
       "      <td>Class_Eco</td>\n",
       "      <td>26477.193754</td>\n",
       "    </tr>\n",
       "    <tr>\n",
       "      <th>2</th>\n",
       "      <td>Type of Travel</td>\n",
       "      <td>26156.918063</td>\n",
       "    </tr>\n",
       "    <tr>\n",
       "      <th>9</th>\n",
       "      <td>Inflight entertainment</td>\n",
       "      <td>19521.615473</td>\n",
       "    </tr>\n",
       "    <tr>\n",
       "      <th>8</th>\n",
       "      <td>Seat comfort</td>\n",
       "      <td>14378.120330</td>\n",
       "    </tr>\n",
       "    <tr>\n",
       "      <th>10</th>\n",
       "      <td>On-board service</td>\n",
       "      <td>12020.742510</td>\n",
       "    </tr>\n",
       "    <tr>\n",
       "      <th>11</th>\n",
       "      <td>Leg room service</td>\n",
       "      <td>11265.609897</td>\n",
       "    </tr>\n",
       "    <tr>\n",
       "      <th>15</th>\n",
       "      <td>Cleanliness</td>\n",
       "      <td>10628.854761</td>\n",
       "    </tr>\n",
       "    <tr>\n",
       "      <th>3</th>\n",
       "      <td>Flight Distance</td>\n",
       "      <td>10164.144626</td>\n",
       "    </tr>\n",
       "    <tr>\n",
       "      <th>4</th>\n",
       "      <td>Inflight wifi service</td>\n",
       "      <td>9099.690101</td>\n",
       "    </tr>\n",
       "    <tr>\n",
       "      <th>12</th>\n",
       "      <td>Baggage handling</td>\n",
       "      <td>6778.333762</td>\n",
       "    </tr>\n",
       "    <tr>\n",
       "      <th>14</th>\n",
       "      <td>Inflight service</td>\n",
       "      <td>6606.690190</td>\n",
       "    </tr>\n",
       "    <tr>\n",
       "      <th>13</th>\n",
       "      <td>Checkin service</td>\n",
       "      <td>6105.271217</td>\n",
       "    </tr>\n",
       "    <tr>\n",
       "      <th>6</th>\n",
       "      <td>Food and drink</td>\n",
       "      <td>4762.944778</td>\n",
       "    </tr>\n",
       "    <tr>\n",
       "      <th>0</th>\n",
       "      <td>Customer Type</td>\n",
       "      <td>3777.045087</td>\n",
       "    </tr>\n",
       "    <tr>\n",
       "      <th>5</th>\n",
       "      <td>Ease of Online booking</td>\n",
       "      <td>3139.476837</td>\n",
       "    </tr>\n",
       "    <tr>\n",
       "      <th>1</th>\n",
       "      <td>Age</td>\n",
       "      <td>1982.685800</td>\n",
       "    </tr>\n",
       "  </tbody>\n",
       "</table>\n",
       "</div>"
      ],
      "text/plain": [
       "                    column         score\n",
       "16          Class_Business  35263.686115\n",
       "7          Online boarding  35170.633424\n",
       "17               Class_Eco  26477.193754\n",
       "2           Type of Travel  26156.918063\n",
       "9   Inflight entertainment  19521.615473\n",
       "8             Seat comfort  14378.120330\n",
       "10        On-board service  12020.742510\n",
       "11        Leg room service  11265.609897\n",
       "15             Cleanliness  10628.854761\n",
       "3          Flight Distance  10164.144626\n",
       "4    Inflight wifi service   9099.690101\n",
       "12        Baggage handling   6778.333762\n",
       "14        Inflight service   6606.690190\n",
       "13         Checkin service   6105.271217\n",
       "6           Food and drink   4762.944778\n",
       "0            Customer Type   3777.045087\n",
       "5   Ease of Online booking   3139.476837\n",
       "1                      Age   1982.685800"
      ]
     },
     "execution_count": 21,
     "metadata": {},
     "output_type": "execute_result"
    }
   ],
   "source": [
    "features_selectKbest"
   ]
  }
 ],
 "metadata": {
  "kernelspec": {
   "display_name": "Python 3",
   "language": "python",
   "name": "python3"
  },
  "language_info": {
   "codemirror_mode": {
    "name": "ipython",
    "version": 3
   },
   "file_extension": ".py",
   "mimetype": "text/x-python",
   "name": "python",
   "nbconvert_exporter": "python",
   "pygments_lexer": "ipython3",
   "version": "3.7.4"
  },
  "orig_nbformat": 4
 },
 "nbformat": 4,
 "nbformat_minor": 2
}
