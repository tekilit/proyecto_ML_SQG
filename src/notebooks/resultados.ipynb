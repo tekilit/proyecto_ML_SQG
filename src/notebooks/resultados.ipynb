{
 "cells": [
  {
   "cell_type": "code",
   "execution_count": 38,
   "metadata": {},
   "outputs": [],
   "source": [
    "import numpy as np\n",
    "import pandas as pd\n",
    "import pickle"
   ]
  },
  {
   "cell_type": "code",
   "execution_count": 53,
   "metadata": {},
   "outputs": [],
   "source": [
    "random_forest = pickle.load(open('../data/variables_pkl/resultado_random_forest.pkl', 'rb'))\n",
    "svc = pickle.load(open('../data/variables_pkl/resultado_svc.pkl', 'rb'))\n",
    "log_reg = pickle.load(open('../data/variables_pkl/resultado_log_reg.pkl', 'rb'))\n",
    "log_reg_rf = pickle.load(open('../data/variables_pkl/resultado_log_reg_rf.pkl', 'rb'))\n",
    "knn = pickle.load(open('../data/variables_pkl/resultado_knn.pkl', 'rb'))\n",
    "xgb = pickle.load(open('../data/variables_pkl/resultado_xgb.pkl', 'rb'))\n",
    "gbc = pickle.load(open('../data/variables_pkl/resultado_gbc.pkl', 'rb'))\n"
   ]
  },
  {
   "cell_type": "code",
   "execution_count": 54,
   "metadata": {},
   "outputs": [
    {
     "data": {
      "text/html": [
       "<div>\n",
       "<style scoped>\n",
       "    .dataframe tbody tr th:only-of-type {\n",
       "        vertical-align: middle;\n",
       "    }\n",
       "\n",
       "    .dataframe tbody tr th {\n",
       "        vertical-align: top;\n",
       "    }\n",
       "\n",
       "    .dataframe thead th {\n",
       "        text-align: right;\n",
       "    }\n",
       "</style>\n",
       "<table border=\"1\" class=\"dataframe\">\n",
       "  <thead>\n",
       "    <tr style=\"text-align: right;\">\n",
       "      <th></th>\n",
       "      <th>Modelo</th>\n",
       "      <th>Score</th>\n",
       "    </tr>\n",
       "  </thead>\n",
       "  <tbody>\n",
       "    <tr>\n",
       "      <th>0</th>\n",
       "      <td>XGBoosting</td>\n",
       "      <td>0.986582</td>\n",
       "    </tr>\n",
       "    <tr>\n",
       "      <th>1</th>\n",
       "      <td>Random Forest</td>\n",
       "      <td>0.974142</td>\n",
       "    </tr>\n",
       "    <tr>\n",
       "      <th>2</th>\n",
       "      <td>GradientBoostingClassifier</td>\n",
       "      <td>0.961218</td>\n",
       "    </tr>\n",
       "    <tr>\n",
       "      <th>3</th>\n",
       "      <td>resultado_KNN</td>\n",
       "      <td>0.931490</td>\n",
       "    </tr>\n",
       "    <tr>\n",
       "      <th>4</th>\n",
       "      <td>log_regcon selección RF</td>\n",
       "      <td>0.911170</td>\n",
       "    </tr>\n",
       "    <tr>\n",
       "      <th>5</th>\n",
       "      <td>SVC</td>\n",
       "      <td>0.910432</td>\n",
       "    </tr>\n",
       "    <tr>\n",
       "      <th>6</th>\n",
       "      <td>log_reg</td>\n",
       "      <td>0.908290</td>\n",
       "    </tr>\n",
       "  </tbody>\n",
       "</table>\n",
       "</div>"
      ],
      "text/plain": [
       "                       Modelo     Score\n",
       "0                  XGBoosting  0.986582\n",
       "1               Random Forest  0.974142\n",
       "2  GradientBoostingClassifier  0.961218\n",
       "3               resultado_KNN  0.931490\n",
       "4     log_regcon selección RF  0.911170\n",
       "5                         SVC  0.910432\n",
       "6                     log_reg  0.908290"
      ]
     },
     "execution_count": 54,
     "metadata": {},
     "output_type": "execute_result"
    }
   ],
   "source": [
    "resultado = pd.DataFrame({log_reg, log_reg_rf, random_forest, knn, svc , gbc, xgb},columns=['Modelo', 'Score'])\n",
    "resultado.sort_values(by='Score', ignore_index=True, ascending=False)"
   ]
  },
  {
   "cell_type": "markdown",
   "metadata": {},
   "source": []
  }
 ],
 "metadata": {
  "kernelspec": {
   "display_name": "Python 3",
   "language": "python",
   "name": "python3"
  },
  "language_info": {
   "codemirror_mode": {
    "name": "ipython",
    "version": 3
   },
   "file_extension": ".py",
   "mimetype": "text/x-python",
   "name": "python",
   "nbconvert_exporter": "python",
   "pygments_lexer": "ipython3",
   "version": "3.7.4"
  },
  "orig_nbformat": 4
 },
 "nbformat": 4,
 "nbformat_minor": 2
}
