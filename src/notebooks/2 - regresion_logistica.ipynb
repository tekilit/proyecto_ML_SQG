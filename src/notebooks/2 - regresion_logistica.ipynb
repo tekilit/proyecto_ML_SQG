{
 "cells": [
  {
   "cell_type": "code",
   "execution_count": 1,
   "metadata": {},
   "outputs": [],
   "source": [
    "import ssl\n",
    "ssl._create_default_https_context = ssl._create_unverified_context\n",
    "\n",
    "import numpy as np\n",
    "import pandas as pd\n",
    "import pickle\n",
    "%matplotlib inline\n",
    "import matplotlib as mpl\n",
    "import matplotlib.pyplot as plt\n",
    "import seaborn as sns\n",
    "\n",
    "import warnings\n",
    "warnings.filterwarnings(\"ignore\", category=DeprecationWarning)\n",
    "from sklearn.preprocessing import StandardScaler\n",
    "from sklearn.linear_model import LogisticRegression\n",
    "from sklearn.model_selection import KFold, StratifiedKFold, cross_val_score, train_test_split\n",
    "from sklearn.metrics import confusion_matrix, accuracy_score, precision_score, recall_score, f1_score, roc_auc_score, classification_report"
   ]
  },
  {
   "cell_type": "code",
   "execution_count": 2,
   "metadata": {},
   "outputs": [],
   "source": [
    "X = pd.read_csv('../data/processed/df_train.csv').iloc[::, :18:]\n",
    "y= pd.read_csv('../data/processed/df_train.csv')['satisfaction']"
   ]
  },
  {
   "cell_type": "code",
   "execution_count": 3,
   "metadata": {},
   "outputs": [],
   "source": [
    "X_train, X_test, y_train, y_test = train_test_split(X, y, test_size=0.2, random_state=17)"
   ]
  },
  {
   "cell_type": "code",
   "execution_count": 4,
   "metadata": {},
   "outputs": [
    {
     "data": {
      "text/plain": [
       "array([[ 0., 50.,  1., ...,  1.,  0.,  0.],\n",
       "       [ 1., 40.,  1., ...,  3.,  1.,  0.],\n",
       "       [ 1., 38.,  1., ...,  3.,  1.,  0.],\n",
       "       ...,\n",
       "       [ 1., 35.,  0., ...,  3.,  0.,  1.],\n",
       "       [ 1., 67.,  0., ...,  5.,  0.,  1.],\n",
       "       [ 1., 24.,  0., ...,  5.,  0.,  1.]])"
      ]
     },
     "execution_count": 4,
     "metadata": {},
     "output_type": "execute_result"
    }
   ],
   "source": [
    "\n",
    "scaler = StandardScaler()\n",
    "\n",
    "X_train = scaler.fit_transform(X_train)\n",
    "X_test = scaler.transform(X_test)\n",
    "scaler.inverse_transform(X_train)"
   ]
  },
  {
   "cell_type": "code",
   "execution_count": 5,
   "metadata": {},
   "outputs": [
    {
     "name": "stdout",
     "output_type": "stream",
     "text": [
      "accuracy score:   0.8774072107727207\n",
      "precision score:  0.8804071246819338\n",
      "recall score:     0.9082902870691845\n",
      "F1 score:         0.8941313771257086\n",
      "ROC:              0.8723830784391938\n",
      "------------------------------------------- \n",
      "classification report:       \n",
      "---------------------------------------------       \n",
      "                    precision    recall  f1-score   support\n",
      "\n",
      "           0       0.87      0.84      0.85      8910\n",
      "           1       0.88      0.91      0.89     11809\n",
      "\n",
      "    accuracy                           0.88     20719\n",
      "   macro avg       0.88      0.87      0.87     20719\n",
      "weighted avg       0.88      0.88      0.88     20719\n",
      "\n"
     ]
    },
    {
     "data": {
      "image/png": "[encoded data removed]",
      "text/plain": [
       "<Figure size 640x480 with 2 Axes>"
      ]
     },
     "metadata": {},
     "output_type": "display_data"
    }
   ],
   "source": [
    "#me decante por solver saga que era más rápido\n",
    "log_reg = LogisticRegression(solver='saga')\n",
    "\n",
    "log_reg = log_reg.fit(X_train, y_train)\n",
    "\n",
    "y_pred = log_reg.predict(X_test)\n",
    "\n",
    "c_mat = confusion_matrix(y_test,y_pred)\n",
    "c_mat\n",
    "\n",
    "sns.heatmap(c_mat/c_mat.sum(axis=1), annot=True);\n",
    "print(f'accuracy score:   {accuracy_score(y_test,y_pred)}')\n",
    "print(f'precision score:  {precision_score(y_test, y_pred)}')\n",
    "print(f'recall score:     {recall_score(y_test, y_pred)}')\n",
    "print(f'F1 score:         {f1_score(y_test, y_pred)}')\n",
    "print(f'ROC:              {roc_auc_score(y_test, y_pred)}')\n",
    "print('------------------------------------------- ')\n",
    "print(f'''classification report:       \n",
    "---------------------------------------------       \n",
    "      {classification_report(y_test, y_pred)}''')\n"
   ]
  },
  {
   "cell_type": "code",
   "execution_count": 21,
   "metadata": {},
   "outputs": [],
   "source": [
    "pickle.dump(log_reg, open('../models/log_reg.pkl', 'wb')) "
   ]
  },
  {
   "cell_type": "code",
   "execution_count": 7,
   "metadata": {},
   "outputs": [
    {
     "data": {
      "text/plain": [
       "0.8776003749144744"
      ]
     },
     "execution_count": 7,
     "metadata": {},
     "output_type": "execute_result"
    }
   ],
   "source": [
    "result_reg_log = cross_val_score(log_reg, X_test, y_test, cv=10).mean()\n",
    "\n",
    "result_reg_log"
   ]
  },
  {
   "cell_type": "code",
   "execution_count": 8,
   "metadata": {},
   "outputs": [
    {
     "data": {
      "text/plain": [
       "0.9082902870691845"
      ]
     },
     "execution_count": 8,
     "metadata": {},
     "output_type": "execute_result"
    }
   ],
   "source": [
    "model_reg_log = recall_score(y_test, y_pred)\n",
    "model_reg_log"
   ]
  },
  {
   "cell_type": "code",
   "execution_count": 18,
   "metadata": {},
   "outputs": [],
   "source": [
    "with open('../data/variables_pkl/resultado_log_reg.pkl', 'wb') as resultado_log_reg:\n",
    "    pickle.dump(('log_reg', 0.9082902870691845), resultado_log_reg)"
   ]
  },
  {
   "cell_type": "code",
   "execution_count": 10,
   "metadata": {},
   "outputs": [
    {
     "name": "stdout",
     "output_type": "stream",
     "text": [
      "[0.87379344 0.86920849 0.86751931 0.87524131 0.875      0.87595028\n",
      " 0.8746229  0.87305418 0.87112345 0.86931338]\n",
      "Logistic Regression con validación cruzada: 0.872483 (0.002826)\n"
     ]
    }
   ],
   "source": [
    "name='Logistic Regression con validación cruzada'\n",
    "kfold = KFold(n_splits=10, shuffle=True) #Parte los datos en 10 trozos para usar validación cruzada / cross validation\n",
    "cv_results = cross_val_score(log_reg, X_train, y_train, cv=kfold, scoring='accuracy')\n",
    "\n",
    "msg = \"%s: %f (%f)\" % (name, cv_results.mean(), cv_results.std())\n",
    "print(cv_results)\n",
    "print(msg)"
   ]
  },
  {
   "attachments": {},
   "cell_type": "markdown",
   "metadata": {},
   "source": [
    "#### Feature Selection"
   ]
  },
  {
   "cell_type": "code",
   "execution_count": 11,
   "metadata": {},
   "outputs": [
    {
     "data": {
      "text/plain": [
       "(82875, 5)"
      ]
     },
     "execution_count": 11,
     "metadata": {},
     "output_type": "execute_result"
    }
   ],
   "source": [
    "from sklearn.feature_selection import SelectKBest, f_classif\n",
    "x_data_kbest = SelectKBest(f_classif, k = 5).fit_transform(X_train, y_train)\n",
    "x_data_kbest.shape"
   ]
  },
  {
   "cell_type": "code",
   "execution_count": 12,
   "metadata": {},
   "outputs": [],
   "source": [
    "logit = LogisticRegression(random_state = 17)"
   ]
  },
  {
   "cell_type": "code",
   "execution_count": 13,
   "metadata": {},
   "outputs": [
    {
     "data": {
      "text/plain": [
       "0.9281194425088051"
      ]
     },
     "execution_count": 13,
     "metadata": {},
     "output_type": "execute_result"
    }
   ],
   "source": [
    "cross_val_score(logit,\n",
    "               X_test,\n",
    "                y_test,\n",
    "                scoring = 'roc_auc',\n",
    "                cv = 5\n",
    "               ).mean()"
   ]
  },
  {
   "cell_type": "code",
   "execution_count": 14,
   "metadata": {},
   "outputs": [
    {
     "data": {
      "text/plain": [
       "0.9040779200003213"
      ]
     },
     "execution_count": 14,
     "metadata": {},
     "output_type": "execute_result"
    }
   ],
   "source": [
    "cross_val_score(logit,\n",
    "               x_data_kbest,\n",
    "                y_train,\n",
    "                scoring = 'roc_auc',\n",
    "                cv = 5\n",
    "               ).mean()"
   ]
  },
  {
   "cell_type": "code",
   "execution_count": 15,
   "metadata": {},
   "outputs": [
    {
     "name": "stdout",
     "output_type": "stream",
     "text": [
      "Reg. Log. 0.9245304638154769\n",
      "Random Forest 0.9741779309713998\n",
      "Reg. Log. con selección RF 0.9079532519092378\n"
     ]
    }
   ],
   "source": [
    "from sklearn.datasets import make_classification\n",
    "from sklearn.ensemble import RandomForestClassifier\n",
    "from sklearn.feature_selection import SelectFromModel\n",
    "from sklearn.model_selection import cross_val_score\n",
    "from sklearn.pipeline import make_pipeline\n",
    "\n",
    "\n",
    "# Aplicamos la regresión logística usando el feature importance del random forest\n",
    "# Por defecto calcula la media del feature importance y elige las que sean superiores a esa media\n",
    "\n",
    "rf = RandomForestClassifier(n_estimators = 200, random_state = 17, max_depth=5)\n",
    "\n",
    "pipe = make_pipeline(SelectFromModel(estimator=rf),\n",
    "                    logit)\n",
    "\n",
    "print('Reg. Log.', cross_val_score(logit, X_train,y_train,\n",
    "                                  scoring='roc_auc',cv=5).mean())\n",
    "\n",
    "print('Random Forest', cross_val_score(rf,  X_train,y_train,\n",
    "                                  scoring='roc_auc',cv=5).mean())\n",
    "\n",
    "print('Reg. Log. con selección RF', cross_val_score(pipe,  X_train,y_train,\n",
    "                                  scoring='roc_auc',cv=5).mean())"
   ]
  },
  {
   "cell_type": "code",
   "execution_count": 22,
   "metadata": {},
   "outputs": [],
   "source": [
    "pickle.dump(pipe, open('../models/log_reg_rf.pkl', 'wb')) "
   ]
  },
  {
   "cell_type": "code",
   "execution_count": 23,
   "metadata": {},
   "outputs": [
    {
     "data": {
      "text/plain": [
       "Pipeline(steps=[('selectfrommodel',\n",
       "                 SelectFromModel(estimator=RandomForestClassifier(max_depth=5,\n",
       "                                                                  n_estimators=200,\n",
       "                                                                  random_state=17))),\n",
       "                ('logisticregression', LogisticRegression(random_state=17))])"
      ]
     },
     "execution_count": 23,
     "metadata": {},
     "output_type": "execute_result"
    }
   ],
   "source": [
    "pipe"
   ]
  },
  {
   "cell_type": "code",
   "execution_count": 16,
   "metadata": {},
   "outputs": [
    {
     "name": "stdout",
     "output_type": "stream",
     "text": [
      "Reg. Log. con selección RF 0.9111703914398241\n"
     ]
    }
   ],
   "source": [
    "print('Reg. Log. con selección RF', cross_val_score(pipe,  X_test,y_test, scoring='roc_auc',cv=5).mean())"
   ]
  },
  {
   "cell_type": "code",
   "execution_count": 19,
   "metadata": {},
   "outputs": [],
   "source": [
    "with open('../data/variables_pkl/resultado_log_reg_rf.pkl', 'wb') as resultado_log_reg_rf:\n",
    "    pickle.dump(('log_regcon selección RF', 0.9111703914398241), resultado_log_reg_rf)"
   ]
  }
 ],
 "metadata": {
  "kernelspec": {
   "display_name": "Python 3",
   "language": "python",
   "name": "python3"
  },
  "language_info": {
   "codemirror_mode": {
    "name": "ipython",
    "version": 3
   },
   "file_extension": ".py",
   "mimetype": "text/x-python",
   "name": "python",
   "nbconvert_exporter": "python",
   "pygments_lexer": "ipython3",
   "version": "3.7.4"
  },
  "orig_nbformat": 4
 },
 "nbformat": 4,
 "nbformat_minor": 2
}
