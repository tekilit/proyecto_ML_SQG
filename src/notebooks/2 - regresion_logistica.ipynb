{
 "cells": [
  {
   "cell_type": "code",
   "execution_count": 1,
   "metadata": {},
   "outputs": [],
   "source": [
    "import ssl\n",
    "ssl._create_default_https_context = ssl._create_unverified_context\n",
    "\n",
    "import numpy as np\n",
    "import pandas as pd\n",
    "\n",
    "%matplotlib inline\n",
    "import matplotlib as mpl\n",
    "import matplotlib.pyplot as plt\n",
    "import seaborn as sns\n",
    "\n",
    "import warnings\n",
    "warnings.filterwarnings(\"ignore\", category=DeprecationWarning)\n",
    "from sklearn.preprocessing import StandardScaler\n",
    "from sklearn.linear_model import LogisticRegression\n",
    "from sklearn.model_selection import KFold, StratifiedKFold, cross_val_score, train_test_split\n",
    "from sklearn.metrics import confusion_matrix, accuracy_score, precision_score, recall_score, f1_score, roc_auc_score, classification_report"
   ]
  },
  {
   "cell_type": "code",
   "execution_count": null,
   "metadata": {},
   "outputs": [],
   "source": [
    "X = pd.read_csv('../data/processed/df_train.csv').iloc[::, :18:]\n",
    "y= pd.read_csv('../data/processed/df_train.csv')['satisfaction']"
   ]
  },
  {
   "cell_type": "code",
   "execution_count": 4,
   "metadata": {},
   "outputs": [
    {
     "data": {
      "text/plain": [
       "Index(['Customer Type', 'Age', 'Type of Travel', 'Flight Distance',\n",
       "       'Inflight wifi service', 'Ease of Online booking', 'Online boarding',\n",
       "       'Seat comfort', 'Inflight entertainment', 'On-board service',\n",
       "       'Leg room service', 'Baggage handling', 'Checkin service',\n",
       "       'Inflight service', 'Cleanliness', 'Class_Business', 'Class_Eco'],\n",
       "      dtype='object')"
      ]
     },
     "execution_count": 4,
     "metadata": {},
     "output_type": "execute_result"
    }
   ],
   "source": [
    "X.columns"
   ]
  },
  {
   "cell_type": "code",
   "execution_count": 6,
   "metadata": {},
   "outputs": [],
   "source": [
    "X = pd.read_csv('../data/processed/df_train.csv').iloc[::, :23:]\n",
    "y= pd.read_csv('../data/processed/df_train.csv')['satisfaction']"
   ]
  },
  {
   "cell_type": "code",
   "execution_count": 4,
   "metadata": {},
   "outputs": [],
   "source": [
    "X_train, X_test, y_train, y_test = train_test_split(X, y, test_size=0.2, random_state=42)"
   ]
  },
  {
   "cell_type": "code",
   "execution_count": 5,
   "metadata": {},
   "outputs": [
    {
     "data": {
      "text/plain": [
       "array([[ 1., 41.,  1., ...,  4.,  1.,  0.],\n",
       "       [ 1., 19.,  1., ...,  4.,  1.,  0.],\n",
       "       [ 1., 29.,  1., ...,  4.,  1.,  0.],\n",
       "       ...,\n",
       "       [ 0., 34.,  1., ...,  2.,  1.,  0.],\n",
       "       [ 1., 24.,  1., ...,  3.,  1.,  0.],\n",
       "       [ 1., 52.,  1., ...,  2.,  0.,  1.]])"
      ]
     },
     "execution_count": 5,
     "metadata": {},
     "output_type": "execute_result"
    }
   ],
   "source": [
    "\n",
    "scaler = StandardScaler()\n",
    "\n",
    "X_train = scaler.fit_transform(X_train)\n",
    "X_test = scaler.transform(X_test)\n",
    "scaler.inverse_transform(X_train)"
   ]
  },
  {
   "cell_type": "code",
   "execution_count": 6,
   "metadata": {},
   "outputs": [
    {
     "name": "stdout",
     "output_type": "stream",
     "text": [
      "accuracy score:   0.872291133741976\n",
      "precision score:  0.8726731198808637\n",
      "recall score:     0.905019305019305\n",
      "F1 score:         0.8885519332827899\n",
      "ROC:              0.8676133594822915\n",
      "------------------------------------------- \n",
      "classification report:       \n",
      "---------------------------------------------       \n",
      "                    precision    recall  f1-score   support\n",
      "\n",
      "           0       0.87      0.83      0.85      9064\n",
      "           1       0.87      0.91      0.89     11655\n",
      "\n",
      "    accuracy                           0.87     20719\n",
      "   macro avg       0.87      0.87      0.87     20719\n",
      "weighted avg       0.87      0.87      0.87     20719\n",
      "\n"
     ]
    },
    {
     "data": {
      "image/png": "[encoded data removed]",
      "text/plain": [
       "<Figure size 640x480 with 2 Axes>"
      ]
     },
     "metadata": {},
     "output_type": "display_data"
    }
   ],
   "source": [
    "#me dencante por solver saga que era más rápido\n",
    "log_reg = LogisticRegression(solver='saga')\n",
    "\n",
    "log_reg.fit(X_train, y_train)\n",
    "\n",
    "y_pred = log_reg.predict(X_test)\n",
    "\n",
    "c_mat = confusion_matrix(y_test,y_pred)\n",
    "c_mat\n",
    "\n",
    "sns.heatmap(c_mat/c_mat.sum(axis=1), annot=True);\n",
    "print(f'accuracy score:   {accuracy_score(y_test,y_pred)}')\n",
    "print(f'precision score:  {precision_score(y_test, y_pred)}')\n",
    "print(f'recall score:     {recall_score(y_test, y_pred)}')\n",
    "print(f'F1 score:         {f1_score(y_test, y_pred)}')\n",
    "print(f'ROC:              {roc_auc_score(y_test, y_pred)}')\n",
    "print('------------------------------------------- ')\n",
    "print(f'''classification report:       \n",
    "---------------------------------------------       \n",
    "      {classification_report(y_test, y_pred)}''')\n"
   ]
  },
  {
   "cell_type": "code",
   "execution_count": 7,
   "metadata": {},
   "outputs": [
    {
     "data": {
      "text/plain": [
       "0.8715196666971172"
      ]
     },
     "execution_count": 7,
     "metadata": {},
     "output_type": "execute_result"
    }
   ],
   "source": [
    "result_reg_log = cross_val_score(log_reg, X_test, y_test, cv=10).mean()\n",
    "\n",
    "result_reg_log"
   ]
  },
  {
   "cell_type": "code",
   "execution_count": 8,
   "metadata": {},
   "outputs": [
    {
     "data": {
      "text/plain": [
       "0.905019305019305"
      ]
     },
     "execution_count": 8,
     "metadata": {},
     "output_type": "execute_result"
    }
   ],
   "source": [
    "model_reg_log = recall_score(y_test, y_pred)\n",
    "model_reg_log"
   ]
  },
  {
   "cell_type": "code",
   "execution_count": 9,
   "metadata": {},
   "outputs": [
    {
     "name": "stdout",
     "output_type": "stream",
     "text": [
      "[0.87367278 0.87451737 0.87451737 0.87572394 0.86969112 0.87184747\n",
      " 0.87450223 0.87401955 0.87727766 0.8746229 ]\n",
      "Logistic Regression con validación cruzada: 0.874039 (0.001954)\n"
     ]
    }
   ],
   "source": [
    "name='Logistic Regression con validación cruzada'\n",
    "kfold = KFold(n_splits=10, shuffle=True) #Parte los datos en 10 trozos para usar validación cruzada / cross validation\n",
    "cv_results = cross_val_score(log_reg, X_train, y_train, cv=kfold, scoring='accuracy')\n",
    "\n",
    "msg = \"%s: %f (%f)\" % (name, cv_results.mean(), cv_results.std())\n",
    "print(cv_results)\n",
    "print(msg)"
   ]
  },
  {
   "attachments": {},
   "cell_type": "markdown",
   "metadata": {},
   "source": [
    "#### Feature Selection"
   ]
  },
  {
   "cell_type": "code",
   "execution_count": 9,
   "metadata": {},
   "outputs": [
    {
     "data": {
      "text/plain": [
       "(82875, 5)"
      ]
     },
     "execution_count": 9,
     "metadata": {},
     "output_type": "execute_result"
    }
   ],
   "source": [
    "from sklearn.feature_selection import SelectKBest, f_classif\n",
    "x_data_kbest = SelectKBest(f_classif, k = 5).fit_transform(X_train, y_train)\n",
    "x_data_kbest.shape"
   ]
  },
  {
   "cell_type": "code",
   "execution_count": 10,
   "metadata": {},
   "outputs": [],
   "source": [
    "logit = LogisticRegression(random_state = 17)"
   ]
  },
  {
   "cell_type": "code",
   "execution_count": 11,
   "metadata": {},
   "outputs": [
    {
     "data": {
      "text/plain": [
       "0.9231395487629894"
      ]
     },
     "execution_count": 11,
     "metadata": {},
     "output_type": "execute_result"
    }
   ],
   "source": [
    "cross_val_score(logit,\n",
    "               X_test,\n",
    "                y_test,\n",
    "                scoring = 'roc_auc',\n",
    "                cv = 5\n",
    "               ).mean()"
   ]
  },
  {
   "cell_type": "code",
   "execution_count": 12,
   "metadata": {},
   "outputs": [
    {
     "data": {
      "text/plain": [
       "0.9048793434905956"
      ]
     },
     "execution_count": 12,
     "metadata": {},
     "output_type": "execute_result"
    }
   ],
   "source": [
    "cross_val_score(logit,\n",
    "               x_data_kbest,\n",
    "                y_train,\n",
    "                scoring = 'roc_auc',\n",
    "                cv = 5\n",
    "               ).mean()"
   ]
  },
  {
   "cell_type": "code",
   "execution_count": 13,
   "metadata": {},
   "outputs": [
    {
     "name": "stdout",
     "output_type": "stream",
     "text": [
      "Reg. Log. 0.9257673108876376\n",
      "Random Forest 0.9736237182005996\n",
      "Reg. Log. con selección RF 0.9088535665307743\n"
     ]
    }
   ],
   "source": [
    "from sklearn.datasets import make_classification\n",
    "from sklearn.ensemble import RandomForestClassifier\n",
    "from sklearn.feature_selection import SelectFromModel\n",
    "from sklearn.model_selection import cross_val_score\n",
    "from sklearn.pipeline import make_pipeline\n",
    "\n",
    "\n",
    "# Aplicamos la regresión logística usando el feature importance del random forest\n",
    "# Por defecto calcula la media del feature importance y elige las que sean superiores a esa media\n",
    "\n",
    "rf = RandomForestClassifier(n_estimators = 200, random_state = 17, max_depth=5)\n",
    "\n",
    "pipe = make_pipeline(SelectFromModel(estimator=rf),\n",
    "                    logit)\n",
    "\n",
    "print('Reg. Log.', cross_val_score(logit, X_train,y_train,\n",
    "                                  scoring='roc_auc',cv=5).mean())\n",
    "\n",
    "print('Random Forest', cross_val_score(rf,  X_train,y_train,\n",
    "                                  scoring='roc_auc',cv=5).mean())\n",
    "\n",
    "print('Reg. Log. con selección RF', cross_val_score(pipe,  X_train,y_train,\n",
    "                                  scoring='roc_auc',cv=5).mean())"
   ]
  },
  {
   "cell_type": "code",
   "execution_count": 14,
   "metadata": {},
   "outputs": [
    {
     "name": "stdout",
     "output_type": "stream",
     "text": [
      "Reg. Log. con selección RF 0.9088535665307743\n"
     ]
    }
   ],
   "source": [
    "print('Reg. Log. con selección RF', cross_val_score(pipe,  y_test,y_pred,\n",
    "                                  scoring='roc_auc',cv=5).mean())"
   ]
  },
  {
   "cell_type": "code",
   "execution_count": 16,
   "metadata": {},
   "outputs": [
    {
     "name": "stdout",
     "output_type": "stream",
     "text": [
      "Reg. Log. con selección RF 0.9076383409142036\n"
     ]
    }
   ],
   "source": [
    "print('Reg. Log. con selección RF', cross_val_score(pipe,  X_test,y_test,\n",
    "                                  scoring='roc_auc',cv=5).mean())"
   ]
  }
 ],
 "metadata": {
  "kernelspec": {
   "display_name": "Python 3",
   "language": "python",
   "name": "python3"
  },
  "language_info": {
   "codemirror_mode": {
    "name": "ipython",
    "version": 3
   },
   "file_extension": ".py",
   "mimetype": "text/x-python",
   "name": "python",
   "nbconvert_exporter": "python",
   "pygments_lexer": "ipython3",
   "version": "3.7.4"
  },
  "orig_nbformat": 4
 },
 "nbformat": 4,
 "nbformat_minor": 2
}
