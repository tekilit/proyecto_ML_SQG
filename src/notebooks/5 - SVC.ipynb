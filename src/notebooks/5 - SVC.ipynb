{
 "cells": [
  {
   "cell_type": "code",
   "execution_count": 1,
   "metadata": {},
   "outputs": [],
   "source": [
    "import ssl\n",
    "ssl._create_default_https_context = ssl._create_unverified_context\n",
    "\n",
    "import numpy as np\n",
    "import pandas as pd\n",
    "\n",
    "%matplotlib inline\n",
    "import matplotlib as mpl\n",
    "import matplotlib.pyplot as plt\n",
    "import seaborn as sns\n",
    "import pickle\n",
    "import warnings\n",
    "warnings.filterwarnings(\"ignore\", category=DeprecationWarning)\n",
    "from sklearn.preprocessing import StandardScaler\n",
    "from sklearn.linear_model import LogisticRegression\n",
    "from sklearn.model_selection import KFold, StratifiedKFold, cross_val_score, train_test_split\n",
    "from sklearn.metrics import confusion_matrix, accuracy_score, precision_score, recall_score, f1_score, roc_auc_score, classification_report"
   ]
  },
  {
   "cell_type": "code",
   "execution_count": 2,
   "metadata": {},
   "outputs": [],
   "source": [
    "X = pd.read_csv('../data/processed/df_train.csv').iloc[::, :18:]\n",
    "y= pd.read_csv('../data/processed/df_train.csv')['satisfaction']"
   ]
  },
  {
   "cell_type": "code",
   "execution_count": 3,
   "metadata": {},
   "outputs": [],
   "source": [
    "X_train, X_test, y_train, y_test = train_test_split(X, y, test_size=0.2, random_state=42)"
   ]
  },
  {
   "cell_type": "code",
   "execution_count": 4,
   "metadata": {},
   "outputs": [
    {
     "data": {
      "text/plain": [
       "array([[ 1., 41.,  1., ...,  4.,  1.,  0.],\n",
       "       [ 1., 19.,  1., ...,  4.,  1.,  0.],\n",
       "       [ 1., 29.,  1., ...,  4.,  1.,  0.],\n",
       "       ...,\n",
       "       [ 0., 34.,  1., ...,  2.,  1.,  0.],\n",
       "       [ 1., 24.,  1., ...,  3.,  1.,  0.],\n",
       "       [ 1., 52.,  1., ...,  2.,  0.,  1.]])"
      ]
     },
     "execution_count": 4,
     "metadata": {},
     "output_type": "execute_result"
    }
   ],
   "source": [
    "scaler = StandardScaler()\n",
    "\n",
    "X_train = scaler.fit_transform(X_train)\n",
    "X_test = scaler.transform(X_test)\n",
    "scaler.inverse_transform(X_train)"
   ]
  },
  {
   "cell_type": "code",
   "execution_count": 5,
   "metadata": {},
   "outputs": [
    {
     "data": {
      "text/plain": [
       "0.9104316696042932"
      ]
     },
     "execution_count": 5,
     "metadata": {},
     "output_type": "execute_result"
    }
   ],
   "source": [
    "from sklearn.svm import SVC\n",
    "from sklearn.feature_selection import RFE\n",
    "\n",
    "svc = SVC(kernel='linear')\n",
    "\n",
    "rfe = RFE(estimator=svc,\n",
    "         n_features_to_select = 5,\n",
    "          step=1\n",
    "         )\n",
    "model_SVM = rfe.fit(X_train,y_train)\n",
    "y_pred = model_SVM.predict(X_test)\n",
    "resultado_SVC = cross_val_score(rfe, X_test, y_test,\n",
    "               scoring='roc_auc',cv=5).mean()\n",
    "resultado_SVC"
   ]
  },
  {
   "cell_type": "code",
   "execution_count": 7,
   "metadata": {},
   "outputs": [],
   "source": [
    "with open('../data/variables_pkl/resultado_svc.pkl', 'wb') as resultado_SVC:\n",
    "    pickle.dump(('SVC', 0.9104316696042932), resultado_SVC)"
   ]
  },
  {
   "cell_type": "code",
   "execution_count": 11,
   "metadata": {},
   "outputs": [],
   "source": [
    "pickle.dump(model_SVM, open('../models/model_SVC.pkl', 'wb')) "
   ]
  },
  {
   "cell_type": "code",
   "execution_count": 5,
   "metadata": {},
   "outputs": [],
   "source": [
    "svc_y_test.fit(X_train, y_train)"
   ]
  },
  {
   "cell_type": "code",
   "execution_count": null,
   "metadata": {},
   "outputs": [],
   "source": []
  },
  {
   "cell_type": "code",
   "execution_count": null,
   "metadata": {},
   "outputs": [],
   "source": [
    "import pickle\n",
    "\n",
    "#save SVC \n",
    "with open('svc_model.pkl', 'wb') as svc_model_teste: pickle.dump(rfe, svc_model_teste)"
   ]
  },
  {
   "cell_type": "code",
   "execution_count": 11,
   "metadata": {},
   "outputs": [],
   "source": [
    "c_mat = confusion_matrix(y_test,y_pred)\n",
    "c_mat\n",
    "\n",
    "sns.heatmap(c_mat/c_mat.sum(axis=1), annot=True);\n",
    "print(f'accuracy score:   {accuracy_score(y_test,y_pred)}')\n",
    "print(f'precision score:  {precision_score(y_test, y_pred)}')\n",
    "print(f'recall score:     {recall_score(y_test, y_pred)}')\n",
    "print(f'F1 score:         {f1_score(y_test, y_pred)}')\n",
    "print(f'ROC:              {roc_auc_score(y_test, y_pred)}')\n",
    "print('------------------------------------------- ')\n",
    "print(f'''classification report:       \n",
    "---------------------------------------------       \n",
    "      {classification_report(y_test, y_pred)}''')"
   ]
  }
 ],
 "metadata": {
  "kernelspec": {
   "display_name": "Python 3",
   "language": "python",
   "name": "python3"
  },
  "language_info": {
   "codemirror_mode": {
    "name": "ipython",
    "version": 3
   },
   "file_extension": ".py",
   "mimetype": "text/x-python",
   "name": "python",
   "nbconvert_exporter": "python",
   "pygments_lexer": "ipython3",
   "version": "3.7.4"
  },
  "orig_nbformat": 4
 },
 "nbformat": 4,
 "nbformat_minor": 2
}
